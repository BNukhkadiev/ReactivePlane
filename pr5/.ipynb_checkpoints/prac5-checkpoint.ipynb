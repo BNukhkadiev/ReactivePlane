{
 "cells": [
  {
   "cell_type": "code",
   "execution_count": 78,
   "id": "9fd982d9",
   "metadata": {},
   "outputs": [],
   "source": [
    "import numpy as np"
   ]
  },
  {
   "cell_type": "code",
   "execution_count": 81,
   "id": "8a4aa8c4",
   "metadata": {},
   "outputs": [
    {
     "name": "stdout",
     "output_type": "stream",
     "text": [
      "A:\n",
      "[[20 15 10]\n",
      " [16 12 14]\n",
      " [13 18 15]]\n",
      "\n",
      "b:\n",
      "[20 16 18]\n",
      "\n",
      "R:\n",
      "[[ 0.  5. 10.]\n",
      " [ 0.  4.  2.]\n",
      " [ 5.  0.  3.]]\n",
      "\n"
     ]
    }
   ],
   "source": [
    "A = np.array([[20, 15, 10],\n",
    "              [16, 12, 14],\n",
    "              [13, 18, 15]])\n",
    "b = np.max(A, axis=1)\n",
    "R = np.zeros(A.shape)\n",
    "res = np.zeros(A.shape[0])\n",
    "for i in range(A.shape[0]):\n",
    "    R[i] = b[i] - A[i]\n",
    "\n",
    "print(f'A:\\n{A}\\n')\n",
    "print(f'b:\\n{b}\\n')\n",
    "print(f'R:\\n{R}\\n')\n"
   ]
  },
  {
   "cell_type": "markdown",
   "id": "bdcc074c",
   "metadata": {},
   "source": [
    "**Критерий Вальда**"
   ]
  },
  {
   "cell_type": "code",
   "execution_count": 82,
   "id": "718e56f6",
   "metadata": {},
   "outputs": [
    {
     "data": {
      "text/plain": [
       "array([3])"
      ]
     },
     "execution_count": 82,
     "metadata": {},
     "output_type": "execute_result"
    }
   ],
   "source": [
    "t = np.max(np.min(A, axis=1))\n",
    "W = np.where(A==t)\n",
    "res[W[0]] += 1\n",
    "W[0]+1"
   ]
  },
  {
   "cell_type": "markdown",
   "id": "d1e9e04f",
   "metadata": {},
   "source": [
    "**Критерий Оптимизма**"
   ]
  },
  {
   "cell_type": "code",
   "execution_count": 83,
   "id": "123bc5b2",
   "metadata": {},
   "outputs": [
    {
     "data": {
      "text/plain": [
       "array([1])"
      ]
     },
     "execution_count": 83,
     "metadata": {},
     "output_type": "execute_result"
    }
   ],
   "source": [
    "t = np.max(np.max(A, axis=1))\n",
    "M = np.where(A==t)\n",
    "res[M[0]] += 1\n",
    "M[0]+1"
   ]
  },
  {
   "cell_type": "markdown",
   "id": "6214602c",
   "metadata": {},
   "source": [
    "**Критерий Пессимизма**"
   ]
  },
  {
   "cell_type": "code",
   "execution_count": 84,
   "id": "00792974",
   "metadata": {},
   "outputs": [
    {
     "data": {
      "text/plain": [
       "array([1])"
      ]
     },
     "execution_count": 84,
     "metadata": {},
     "output_type": "execute_result"
    }
   ],
   "source": [
    "t = np.min(np.min(A, axis=1))\n",
    "P = np.where(A==t)\n",
    "res[P[0]] += 1\n",
    "P[0]+1"
   ]
  },
  {
   "cell_type": "markdown",
   "id": "77356062",
   "metadata": {},
   "source": [
    "**Критерий Сэвиджа**"
   ]
  },
  {
   "cell_type": "code",
   "execution_count": 85,
   "id": "35c4a558",
   "metadata": {},
   "outputs": [
    {
     "data": {
      "text/plain": [
       "array([2])"
      ]
     },
     "execution_count": 85,
     "metadata": {},
     "output_type": "execute_result"
    }
   ],
   "source": [
    "t = np.min(np.max(R, axis=1))\n",
    "S = np.where(R==t)\n",
    "res[S[0]] += 1\n",
    "S[0]+1"
   ]
  },
  {
   "cell_type": "markdown",
   "id": "053c16c4",
   "metadata": {},
   "source": [
    "**Критерий Гурвица**"
   ]
  },
  {
   "cell_type": "code",
   "execution_count": 86,
   "id": "d1032e3c",
   "metadata": {},
   "outputs": [
    {
     "data": {
      "text/plain": [
       "array([3])"
      ]
     },
     "execution_count": 86,
     "metadata": {},
     "output_type": "execute_result"
    }
   ],
   "source": [
    "lam = 0.5\n",
    "t = lam * np.max(A, axis=1) + (1 - lam) * np.min(A, axis=1)\n",
    "H = np.where(t==max(t))\n",
    "res[H[0]] +=1\n",
    "H[0]+1"
   ]
  },
  {
   "cell_type": "code",
   "execution_count": 95,
   "id": "dec0cf15",
   "metadata": {},
   "outputs": [
    {
     "name": "stdout",
     "output_type": "stream",
     "text": [
      "Optimum strategies: (array([0, 2]),)\n"
     ]
    }
   ],
   "source": [
    "print(f'Optimum strategies: {np.where(res ==np.max(res))}')"
   ]
  },
  {
   "cell_type": "code",
   "execution_count": null,
   "id": "4ab8fe41",
   "metadata": {},
   "outputs": [],
   "source": []
  }
 ],
 "metadata": {
  "kernelspec": {
   "display_name": "Python 3 (ipykernel)",
   "language": "python",
   "name": "python3"
  },
  "language_info": {
   "codemirror_mode": {
    "name": "ipython",
    "version": 3
   },
   "file_extension": ".py",
   "mimetype": "text/x-python",
   "name": "python",
   "nbconvert_exporter": "python",
   "pygments_lexer": "ipython3",
   "version": "3.8.3"
  }
 },
 "nbformat": 4,
 "nbformat_minor": 5
}
